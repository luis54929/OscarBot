{
 "cells": [
  {
   "cell_type": "markdown",
   "metadata": {},
   "source": [
    "# 3 casos de uso"
   ]
  },
  {
   "cell_type": "markdown",
   "metadata": {},
   "source": [
    "1. Docuemtación de codigo dado unos formatos\n",
    "2. Pruebas funcionales\n",
    "3. Conocimiento del Chapter Backend Satelites"
   ]
  },
  {
   "cell_type": "markdown",
   "metadata": {},
   "source": [
    "# Chatbot con ChatterBot y spaCy\n",
    "\n",
    "Este notebook muestra cómo adquirir un corpus con pandas, procesarlo con spaCy, entrenar un chatbot con ChatterBot y probarlo en CMD."
   ]
  },
  {
   "cell_type": "code",
   "execution_count": 1,
   "metadata": {},
   "outputs": [
    {
     "name": "stdout",
     "output_type": "stream",
     "text": [
      "Requirement already satisfied: spacy in c:\\users\\luis5\\appdata\\local\\programs\\python\\python312\\lib\\site-packages (3.7.6)\n",
      "Requirement already satisfied: transformers in c:\\users\\luis5\\appdata\\local\\programs\\python\\python312\\lib\\site-packages (4.44.2)\n",
      "Requirement already satisfied: pandas in c:\\users\\luis5\\appdata\\local\\programs\\python\\python312\\lib\\site-packages (2.2.2)\n",
      "Requirement already satisfied: torch in c:\\users\\luis5\\appdata\\local\\programs\\python\\python312\\lib\\site-packages (2.4.1)\n",
      "Requirement already satisfied: googletrans==4.0.0-rc1 in c:\\users\\luis5\\appdata\\local\\programs\\python\\python312\\lib\\site-packages (4.0.0rc1)\n",
      "Note: you may need to restart the kernel to use updated packages.\n"
     ]
    },
    {
     "name": "stderr",
     "output_type": "stream",
     "text": [
      "ERROR: Could not find a version that satisfies the requirement sqlite3 (from versions: none)\n",
      "ERROR: No matching distribution found for sqlite3\n"
     ]
    }
   ],
   "source": [
    "%pip install spacy transformers pandas torch googletrans==4.0.0-rc1 sqlite3"
   ]
  },
  {
   "cell_type": "code",
   "execution_count": 3,
   "metadata": {},
   "outputs": [],
   "source": [
    "import pandas as pd\n",
    "import spacy\n",
    "#from chatterbot import ChatBot\n",
    "#from chatterbot.trainers import ListTrainer, ChatterBotCorpusTrainer\n",
    "import sqlite3\n"
   ]
  },
  {
   "cell_type": "markdown",
   "metadata": {},
   "source": [
    "## Adquisición del Corpus con Pandas"
   ]
  },
  {
   "cell_type": "code",
   "execution_count": 4,
   "metadata": {},
   "outputs": [],
   "source": [
    "# Cargar los datasets\n",
    "df1 = pd.read_csv('archive\\\\Ubuntu-dialogue-corpus\\\\dialogueText_196.csv')\n",
    "df2 = pd.read_csv('archive\\\\Ubuntu-dialogue-corpus\\\\dialogueText_301.csv')\n",
    "\n",
    "# Combinar los datasets\n",
    "df = pd.concat([df1, df2])\n",
    "\n",
    "# Asegurarse de que todos los valores en la columna 'text' sean cadenas de texto\n",
    "df['text'] = df['text'].astype(str)\n",
    "\n",
    "# Mostrar las primeras filas del dataset\n",
    "df.head()"
   ]
  },
  {
   "cell_type": "markdown",
   "metadata": {},
   "source": [
    "## Procesamiento del Texto con spaCy"
   ]
  },
  {
   "cell_type": "code",
   "execution_count": 5,
   "metadata": {},
   "outputs": [
    {
     "name": "stderr",
     "output_type": "stream",
     "text": [
      "c:\\Users\\luis5\\AppData\\Local\\Programs\\Python\\Python312\\Lib\\site-packages\\tqdm\\auto.py:21: TqdmWarning: IProgress not found. Please update jupyter and ipywidgets. See https://ipywidgets.readthedocs.io/en/stable/user_install.html\n",
      "  from .autonotebook import tqdm as notebook_tqdm\n"
     ]
    },
    {
     "name": "stdout",
     "output_type": "stream",
     "text": [
      "Preprocesando el texto...\n",
      "Procesando texto 1 de 25800707\n",
      "Procesando texto 1000001 de 25800707\n",
      "Procesando texto 2000001 de 25800707\n",
      "Procesando texto 3000001 de 25800707\n",
      "Procesando texto 4000001 de 25800707\n",
      "Procesando texto 5000001 de 25800707\n",
      "Procesando texto 6000001 de 25800707\n",
      "Procesando texto 7000001 de 25800707\n"
     ]
    }
   ],
   "source": [
    "nlp = spacy.load(\"en_core_web_sm\")\n",
    "# Preprocesar el texto con progreso\n",
    "def preprocess_text(text, index, total):\n",
    "    doc = nlp(text)\n",
    "    if index % 1000000 == 0:  # Imprimir cada 100 textos procesados\n",
    "        print(f\"Procesando texto {index + 1} de {total}\")\n",
    "    return \" \".join([token.lemma_ for token in doc if not token.is_stop])\n",
    "\n",
    "print(\"Preprocesando el texto...\")\n",
    "total_texts = len(df)\n",
    "df['processed_text'] = [preprocess_text(text, i, total_texts) for i, text in enumerate(df['text'])]\n",
    "print(\"Texto preprocesado.\")\n",
    "\n",
    "# Mostrar las primeras filas del dataset procesado\n",
    "print(\"Primeras filas del dataset procesado:\")\n",
    "print(df.head())\n"
   ]
  },
  {
   "cell_type": "markdown",
   "metadata": {},
   "source": [
    "## Entrenamiento del Chatbot con ChatterBot"
   ]
  },
  {
   "cell_type": "code",
   "execution_count": 4,
   "metadata": {},
   "outputs": [],
   "source": [
    "# Crear un chatbot con Chatterbot\n",
    "chatbot = ChatBot(\n",
    "    'OscarBot',\n",
    "    storage_adapter='chatterbot.storage.SQLStorageAdapter',\n",
    "    logic_adapters=[\n",
    "        'chatterbot.logic.BestMatch',\n",
    "        'chatterbot.logic.MathematicalEvaluation',\n",
    "        'chatterbot.logic.TimeLogicAdapter'\n",
    "    ],\n",
    "    database_uri='sqlite:///database.sqlite3'\n",
    ")\n",
    "\n",
    "# Entrenar el chatbot con datos de conversación\n",
    "trainer = ListTrainer(chatbot)\n",
    "\n",
    "# Entrenar el chatbot con el texto procesado\n",
    "for index, row in df.iterrows():\n",
    "    trainer.train([row['processed_text']])"
   ]
  },
  {
   "cell_type": "markdown",
   "metadata": {},
   "source": [
    "## Prueba del Chatbot en CMD"
   ]
  },
  {
   "cell_type": "code",
   "execution_count": 5,
   "metadata": {},
   "outputs": [],
   "source": [
    "# Clase para manejar el contexto\n",
    "class ContextManager:\n",
    "    def __init__(self):\n",
    "        self.context = []\n",
    "\n",
    "    def update_context(self, user_input, bot_response):\n",
    "        self.context.append({\"user\": user_input, \"bot\": bot_response})\n",
    "        if len(self.context) > 10:  # Limitar el tamaño del contexto\n",
    "            self.context.pop(0)\n",
    "\n",
    "    def get_context(self):\n",
    "        return self.context\n",
    "\n",
    "# Crear una conexión a la base de datos\n",
    "conn = sqlite3.connect('chatbot_memory.db')\n",
    "c = conn.cursor()\n",
    "\n",
    "# Crear una tabla para almacenar la memoria\n",
    "c.execute('''CREATE TABLE IF NOT EXISTS memory\n",
    "             (id INTEGER PRIMARY KEY, user_input TEXT, bot_response TEXT)''')\n",
    "\n",
    "# Función para guardar en la memoria\n",
    "def save_to_memory(user_input, bot_response):\n",
    "    c.execute(\"INSERT INTO memory (user_input, bot_response) VALUES (?, ?)\", (user_input, bot_response))\n",
    "    conn.commit()\n",
    "\n",
    "# Función para recuperar de la memoria\n",
    "def retrieve_memory():\n",
    "    c.execute(\"SELECT * FROM memory\")\n",
    "    return c.fetchall()\n",
    "\n",
    "# Función para procesar la conversación\n",
    "def process_conversation(user_input):\n",
    "    processed_input = preprocess_text(user_input)\n",
    "    response = chatbot.get_response(processed_input)\n",
    "    context_manager.update_context(user_input, str(response))\n",
    "    save_to_memory(user_input, str(response))\n",
    "    return response\n",
    "\n",
    "# Ejemplo de uso en CMD\n",
    "if __name__ == \"__main__\":\n",
    "    context_manager = ContextManager()\n",
    "    \n",
    "    print(\"OscarBot: Hola! ¿Cómo puedo ayudarte hoy?\")\n",
    "    \n",
    "    while True:\n",
    "        try:\n",
    "            user_input = input(\"Tú: \")\n",
    "            response = process_conversation(user_input)\n",
    "            print(f\"OscarBot: {response}\")\n",
    "        \n",
    "        except(KeyboardInterrupt, EOFError, SystemExit):\n",
    "            break"
   ]
  }
 ],
 "metadata": {
  "kernelspec": {
   "display_name": "Python 3",
   "language": "python",
   "name": "python3"
  },
  "language_info": {
   "codemirror_mode": {
    "name": "ipython",
    "version": 3
   },
   "file_extension": ".py",
   "mimetype": "text/x-python",
   "name": "python",
   "nbconvert_exporter": "python",
   "pygments_lexer": "ipython3",
   "version": "3.12.5"
  }
 },
 "nbformat": 4,
 "nbformat_minor": 4
}
